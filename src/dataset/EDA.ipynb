{
 "cells": [
  {
   "cell_type": "code",
   "execution_count": 14,
   "metadata": {},
   "outputs": [],
   "source": [
    "import os\n",
    "import pandas as pd\n",
    "import matplotlib.pyplot as plt\n",
    "#hide\n",
    "from collections import Counter\n",
    "from statistics import mean, median, stdev\n",
    "import numpy as np\n",
    "\n",
    "from transformers import (\n",
    "    MODEL_WITH_LM_HEAD_MAPPING,\n",
    "    WEIGHTS_NAME,\n",
    "    AdamW,\n",
    "    AutoConfig,\n",
    "    AutoModelWithLMHead,\n",
    "    AutoTokenizer,\n",
    "    PreTrainedModel,\n",
    "    PreTrainedTokenizer,\n",
    "    get_linear_schedule_with_warmup,\n",
    ")\n",
    "\n",
    "\n",
    "MODEL_CONFIG_CLASSES = list(MODEL_WITH_LM_HEAD_MAPPING.keys())\n",
    "MODEL_TYPES = tuple(conf.model_type for conf in MODEL_CONFIG_CLASSES)"
   ]
  },
  {
   "cell_type": "code",
   "execution_count": 15,
   "metadata": {},
   "outputs": [],
   "source": [
    "class Args():\n",
    "    def __init__(self):\n",
    "        self.output_dir = 'output-small'\n",
    "        self.model_type = 'gpt2'\n",
    "        self.model_name_or_path = 'microsoft/DialoGPT-small'\n",
    "        self.config_name = 'microsoft/DialoGPT-small'\n",
    "        self.tokenizer_name = 'microsoft/DialoGPT-small'\n",
    "        self.cache_dir = 'cached'\n",
    "        self.block_size = 512\n",
    "        self.do_train = True\n",
    "        self.do_eval = True\n",
    "        self.evaluate_during_training = False\n",
    "        self.per_gpu_train_batch_size = 4\n",
    "        self.per_gpu_eval_batch_size = 4\n",
    "        self.gradient_accumulation_steps = 1\n",
    "        self.learning_rate = 5e-5\n",
    "        self.weight_decay = 0.0\n",
    "        self.adam_epsilon = 1e-8\n",
    "        self.max_grad_norm = 1.0\n",
    "        self.num_train_epochs = 3\n",
    "        self.max_steps = -1\n",
    "        self.warmup_steps = 0\n",
    "        self.logging_steps = 1000\n",
    "        self.save_steps = 3500\n",
    "        self.save_total_limit = None\n",
    "        self.eval_all_checkpoints = False\n",
    "        self.no_cuda = False\n",
    "        self.overwrite_output_dir = True\n",
    "        self.overwrite_cache = True\n",
    "        self.should_continue = False\n",
    "        self.seed = 42\n",
    "        self.local_rank = -1\n",
    "        self.fp16 = False\n",
    "        self.fp16_opt_level = 'O1'\n",
    "\n",
    "args = Args()"
   ]
  },
  {
   "cell_type": "code",
   "execution_count": 17,
   "metadata": {},
   "outputs": [
    {
     "data": {
      "text/html": [
       "<div>\n",
       "<style scoped>\n",
       "    .dataframe tbody tr th:only-of-type {\n",
       "        vertical-align: middle;\n",
       "    }\n",
       "\n",
       "    .dataframe tbody tr th {\n",
       "        vertical-align: top;\n",
       "    }\n",
       "\n",
       "    .dataframe thead th {\n",
       "        text-align: right;\n",
       "    }\n",
       "</style>\n",
       "<table border=\"1\" class=\"dataframe\">\n",
       "  <thead>\n",
       "    <tr style=\"text-align: right;\">\n",
       "      <th></th>\n",
       "      <th>response</th>\n",
       "      <th>context 4</th>\n",
       "      <th>context 3</th>\n",
       "      <th>context 2</th>\n",
       "      <th>context 1</th>\n",
       "      <th>context 0</th>\n",
       "      <th>disease</th>\n",
       "    </tr>\n",
       "  </thead>\n",
       "  <tbody>\n",
       "    <tr>\n",
       "      <th>0</th>\n",
       "      <td>You're welcome! Let me know if you have any mo...</td>\n",
       "      <td>Thank you for the information, Medi.</td>\n",
       "      <td>Yes, there are antiviral medications available...</td>\n",
       "      <td>Is there a treatment for hepatitis B?</td>\n",
       "      <td>Symptoms of hepatitis B can vary, but they may...</td>\n",
       "      <td>Medi, what are the symptoms of hepatitis B?</td>\n",
       "      <td>Hepatitis</td>\n",
       "    </tr>\n",
       "    <tr>\n",
       "      <th>1</th>\n",
       "      <td>You're welcome! Let me know if you have any mo...</td>\n",
       "      <td>Thank you for the explanation, Medi.</td>\n",
       "      <td>Yes, other symptoms can include a loss of posi...</td>\n",
       "      <td>Are there any other symptoms that can accompan...</td>\n",
       "      <td>Based on your symptoms, it's possible that you...</td>\n",
       "      <td>Hi, Medi. I've been experiencing pins-and-need...</td>\n",
       "      <td>Migraine</td>\n",
       "    </tr>\n",
       "    <tr>\n",
       "      <th>2</th>\n",
       "      <td>You're welcome! If you have any further questi...</td>\n",
       "      <td>Thank you for the advice, Medi.</td>\n",
       "      <td>There are medications available for the acute ...</td>\n",
       "      <td>Is there any way to quickly relieve a migraine...</td>\n",
       "      <td>Based on your symptoms, it's possible that you...</td>\n",
       "      <td>Hi, Medi. I've been experiencing severe headac...</td>\n",
       "      <td>Migraine</td>\n",
       "    </tr>\n",
       "    <tr>\n",
       "      <th>3</th>\n",
       "      <td>You're welcome! It's always best to involve yo...</td>\n",
       "      <td>Thank you for the information, Medi. I will di...</td>\n",
       "      <td>The dried leaves or dried aerial parts of feve...</td>\n",
       "      <td>That's great to hear. Is there any specific wa...</td>\n",
       "      <td>Feverfew has been traditionally used for heada...</td>\n",
       "      <td>Hello, Medi. I've been considering using fever...</td>\n",
       "      <td>Migraine</td>\n",
       "    </tr>\n",
       "    <tr>\n",
       "      <th>4</th>\n",
       "      <td>You're welcome! I hope these strategies help y...</td>\n",
       "      <td>Thank you, Medi. I will try implementing these...</td>\n",
       "      <td>Yes, there are several strategies that can hel...</td>\n",
       "      <td>Is there anything I can do to reduce my anxiety?</td>\n",
       "      <td>Anxiety can be caused by various factors such ...</td>\n",
       "      <td>Medi, I've been feeling really anxious lately....</td>\n",
       "      <td>Mental_illness</td>\n",
       "    </tr>\n",
       "  </tbody>\n",
       "</table>\n",
       "</div>"
      ],
      "text/plain": [
       "                                            response  \\\n",
       "0  You're welcome! Let me know if you have any mo...   \n",
       "1  You're welcome! Let me know if you have any mo...   \n",
       "2  You're welcome! If you have any further questi...   \n",
       "3  You're welcome! It's always best to involve yo...   \n",
       "4  You're welcome! I hope these strategies help y...   \n",
       "\n",
       "                                           context 4  \\\n",
       "0               Thank you for the information, Medi.   \n",
       "1               Thank you for the explanation, Medi.   \n",
       "2                    Thank you for the advice, Medi.   \n",
       "3  Thank you for the information, Medi. I will di...   \n",
       "4  Thank you, Medi. I will try implementing these...   \n",
       "\n",
       "                                           context 3  \\\n",
       "0  Yes, there are antiviral medications available...   \n",
       "1  Yes, other symptoms can include a loss of posi...   \n",
       "2  There are medications available for the acute ...   \n",
       "3  The dried leaves or dried aerial parts of feve...   \n",
       "4  Yes, there are several strategies that can hel...   \n",
       "\n",
       "                                           context 2  \\\n",
       "0              Is there a treatment for hepatitis B?   \n",
       "1  Are there any other symptoms that can accompan...   \n",
       "2  Is there any way to quickly relieve a migraine...   \n",
       "3  That's great to hear. Is there any specific wa...   \n",
       "4   Is there anything I can do to reduce my anxiety?   \n",
       "\n",
       "                                           context 1  \\\n",
       "0  Symptoms of hepatitis B can vary, but they may...   \n",
       "1  Based on your symptoms, it's possible that you...   \n",
       "2  Based on your symptoms, it's possible that you...   \n",
       "3  Feverfew has been traditionally used for heada...   \n",
       "4  Anxiety can be caused by various factors such ...   \n",
       "\n",
       "                                           context 0         disease  \n",
       "0        Medi, what are the symptoms of hepatitis B?       Hepatitis  \n",
       "1  Hi, Medi. I've been experiencing pins-and-need...        Migraine  \n",
       "2  Hi, Medi. I've been experiencing severe headac...        Migraine  \n",
       "3  Hello, Medi. I've been considering using fever...        Migraine  \n",
       "4  Medi, I've been feeling really anxious lately....  Mental_illness  "
      ]
     },
     "execution_count": 17,
     "metadata": {},
     "output_type": "execute_result"
    }
   ],
   "source": [
    "trn_df = pd.read_csv(r'E:\\Data_analysis\\NLP_2023.1\\NLP.2023.1.Generative-Based-Chatbot\\data\\train.csv')\n",
    "trn_df = trn_df.drop(columns='Unnamed: 0')\n",
    "val_df = pd.read_csv(r'E:\\Data_analysis\\NLP_2023.1\\NLP.2023.1.Generative-Based-Chatbot\\data\\val.csv')\n",
    "val_df = val_df.drop(columns='Unnamed: 0')\n",
    "trn_df.head()"
   ]
  },
  {
   "cell_type": "code",
   "execution_count": 19,
   "metadata": {},
   "outputs": [
    {
     "name": "stdout",
     "output_type": "stream",
     "text": [
      "response     6567\n",
      "context 4    6538\n",
      "context 3    6544\n",
      "context 2    6570\n",
      "context 1    6572\n",
      "context 0    6572\n",
      "disease      6572\n",
      "dtype: int64\n",
      "response     731\n",
      "context 4    728\n",
      "context 3    728\n",
      "context 2    730\n",
      "context 1    731\n",
      "context 0    731\n",
      "disease      731\n",
      "dtype: int64\n"
     ]
    }
   ],
   "source": [
    "print(trn_df.count())\n",
    "print(val_df.count())"
   ]
  },
  {
   "cell_type": "code",
   "execution_count": 20,
   "metadata": {},
   "outputs": [
    {
     "name": "stdout",
     "output_type": "stream",
     "text": [
      "response      5\n",
      "context 4    34\n",
      "context 3    28\n",
      "context 2     2\n",
      "context 1     0\n",
      "context 0     0\n",
      "disease       0\n",
      "dtype: int64\n"
     ]
    }
   ],
   "source": [
    "# Count the number of missing values\n",
    "missing_values_count = trn_df.isna().sum()\n",
    "\n",
    "# Display the count of missing values\n",
    "print(missing_values_count)"
   ]
  },
  {
   "cell_type": "code",
   "execution_count": 21,
   "metadata": {},
   "outputs": [
    {
     "data": {
      "text/plain": [
       "response     6535\n",
       "context 4    6535\n",
       "context 3    6535\n",
       "context 2    6535\n",
       "context 1    6535\n",
       "context 0    6535\n",
       "disease      6535\n",
       "dtype: int64"
      ]
     },
     "execution_count": 21,
     "metadata": {},
     "output_type": "execute_result"
    }
   ],
   "source": [
    "trn_df = trn_df.dropna()\n",
    "val_df = val_df.dropna()\n",
    "trn_df.count()"
   ]
  },
  {
   "cell_type": "code",
   "execution_count": 22,
   "metadata": {},
   "outputs": [],
   "source": [
    "def get_counter_and_lens(data, tokenizer):\n",
    "    flatten = lambda l: [item for sublist in l for item in sublist]\n",
    "    toks = [tokenizer.tokenize(x) for x in data]\n",
    "    \n",
    "    return list(map(len, toks)), Counter(flatten(toks)), Counter(' '.join(data).split())"
   ]
  },
  {
   "cell_type": "code",
   "execution_count": 23,
   "metadata": {},
   "outputs": [],
   "source": [
    "tokenizer = AutoTokenizer.from_pretrained(args.model_name_or_path, cache_dir=args.cache_dir)\n",
    "lens, tok_cnt, word_cnt = get_counter_and_lens(trn_df[df.columns].apply(lambda x: ' '.join(x.astype(str)), axis = 1), tokenizer)"
   ]
  },
  {
   "cell_type": "code",
   "execution_count": 24,
   "metadata": {},
   "outputs": [],
   "source": [
    "#collapse\n",
    "def plot_counts(counts, top_k = 30):\n",
    "    labels, values = zip(*counts.most_common()[:top_k])\n",
    "\n",
    "    indexes = np.arange(len(labels))\n",
    "    width = 1\n",
    "    plt.figure(num=None, figsize=(22, 4), dpi=60, facecolor='w', edgecolor='k')\n",
    "    plt.bar(indexes, values, width)\n",
    "    plt.xticks(indexes + width * 0.5, labels)\n",
    "    plt.show()"
   ]
  },
  {
   "cell_type": "code",
   "execution_count": 25,
   "metadata": {},
   "outputs": [
    {
     "data": {
      "image/png": "[encoded data removed]",
      "text/plain": [
       "<Figure size 1320x240 with 1 Axes>"
      ]
     },
     "metadata": {},
     "output_type": "display_data"
    },
    {
     "data": {
      "image/png": "[encoded data removed]",
      "text/plain": [
       "<Figure size 1320x240 with 1 Axes>"
      ]
     },
     "metadata": {},
     "output_type": "display_data"
    }
   ],
   "source": [
    "plot_counts(tok_cnt, top_k = 30)\n",
    "plot_counts(word_cnt, top_k = 30)"
   ]
  },
  {
   "cell_type": "code",
   "execution_count": 26,
   "metadata": {},
   "outputs": [],
   "source": [
    "#collapse\n",
    "def plot_hist(lens, n_bins = 50):\n",
    "    n, bins, patches = plt.hist(lens, n_bins, facecolor='blue', alpha=0.9)\n",
    "    plt.show()"
   ]
  },
  {
   "cell_type": "code",
   "execution_count": 27,
   "metadata": {},
   "outputs": [
    {
     "name": "stdout",
     "output_type": "stream",
     "text": [
      "Mean: 110.97918898240245, Median: 110, Standard Deviation: 18.379852366607988, 90th Percentile: 195.0\n"
     ]
    },
    {
     "data": {
      "image/png": "[encoded data removed]",
      "text/plain": [
       "<Figure size 432x288 with 1 Axes>"
      ]
     },
     "metadata": {
      "needs_background": "light"
     },
     "output_type": "display_data"
    }
   ],
   "source": [
    "print(f'Mean: {mean(lens)}, Median: {median(lens)}, Standard Deviation: {stdev(lens)}, 90th Percentile: {np.percentile(lens, 100)}')\n",
    "plot_hist(lens)"
   ]
  },
  {
   "cell_type": "code",
   "execution_count": null,
   "metadata": {},
   "outputs": [],
   "source": []
  }
 ],
 "metadata": {
  "kernelspec": {
   "display_name": "Python 3",
   "language": "python",
   "name": "python3"
  },
  "language_info": {
   "codemirror_mode": {
    "name": "ipython",
    "version": 3
   },
   "file_extension": ".py",
   "mimetype": "text/x-python",
   "name": "python",
   "nbconvert_exporter": "python",
   "pygments_lexer": "ipython3",
   "version": "3.8.10"
  },
  "orig_nbformat": 4
 },
 "nbformat": 4,
 "nbformat_minor": 2
}
