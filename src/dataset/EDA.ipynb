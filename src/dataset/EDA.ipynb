{
 "cells": [
  {
   "cell_type": "code",
   "execution_count": 2,
   "metadata": {},
   "outputs": [],
   "source": [
    "import os\n",
    "import pandas as pd\n",
    "import matplotlib.pyplot as plt\n",
    "#hide\n",
    "from collections import Counter\n",
    "from statistics import mean, median, stdev\n",
    "import numpy as np\n",
    "\n",
    "from transformers import (\n",
    "    MODEL_WITH_LM_HEAD_MAPPING,\n",
    "    WEIGHTS_NAME,\n",
    "    AdamW,\n",
    "    AutoConfig,\n",
    "    AutoModelWithLMHead,\n",
    "    AutoTokenizer,\n",
    "    PreTrainedModel,\n",
    "    PreTrainedTokenizer,\n",
    "    get_linear_schedule_with_warmup,\n",
    ")\n",
    "\n",
    "\n",
    "MODEL_CONFIG_CLASSES = list(MODEL_WITH_LM_HEAD_MAPPING.keys())\n",
    "MODEL_TYPES = tuple(conf.model_type for conf in MODEL_CONFIG_CLASSES)"
   ]
  },
  {
   "cell_type": "code",
   "execution_count": 3,
   "metadata": {},
   "outputs": [],
   "source": [
    "class Args():\n",
    "    def __init__(self):\n",
    "        self.output_dir = 'output-small'\n",
    "        self.model_type = 'gpt2'\n",
    "        self.model_name_or_path = 'microsoft/DialoGPT-small'\n",
    "        self.config_name = 'microsoft/DialoGPT-small'\n",
    "        self.tokenizer_name = 'microsoft/DialoGPT-small'\n",
    "        self.cache_dir = 'cached'\n",
    "        self.block_size = 512\n",
    "        self.do_train = True\n",
    "        self.do_eval = True\n",
    "        self.evaluate_during_training = False\n",
    "        self.per_gpu_train_batch_size = 4\n",
    "        self.per_gpu_eval_batch_size = 4\n",
    "        self.gradient_accumulation_steps = 1\n",
    "        self.learning_rate = 5e-5\n",
    "        self.weight_decay = 0.0\n",
    "        self.adam_epsilon = 1e-8\n",
    "        self.max_grad_norm = 1.0\n",
    "        self.num_train_epochs = 3\n",
    "        self.max_steps = -1\n",
    "        self.warmup_steps = 0\n",
    "        self.logging_steps = 1000\n",
    "        self.save_steps = 3500\n",
    "        self.save_total_limit = None\n",
    "        self.eval_all_checkpoints = False\n",
    "        self.no_cuda = False\n",
    "        self.overwrite_output_dir = True\n",
    "        self.overwrite_cache = True\n",
    "        self.should_continue = False\n",
    "        self.seed = 42\n",
    "        self.local_rank = -1\n",
    "        self.fp16 = False\n",
    "        self.fp16_opt_level = 'O1'\n",
    "\n",
    "args = Args()"
   ]
  },
  {
   "cell_type": "code",
   "execution_count": 4,
   "metadata": {},
   "outputs": [
    {
     "data": {
      "text/html": [
       "<div>\n",
       "<style scoped>\n",
       "    .dataframe tbody tr th:only-of-type {\n",
       "        vertical-align: middle;\n",
       "    }\n",
       "\n",
       "    .dataframe tbody tr th {\n",
       "        vertical-align: top;\n",
       "    }\n",
       "\n",
       "    .dataframe thead th {\n",
       "        text-align: right;\n",
       "    }\n",
       "</style>\n",
       "<table border=\"1\" class=\"dataframe\">\n",
       "  <thead>\n",
       "    <tr style=\"text-align: right;\">\n",
       "      <th></th>\n",
       "      <th>response</th>\n",
       "      <th>context 4</th>\n",
       "      <th>context 3</th>\n",
       "      <th>context 2</th>\n",
       "      <th>context 1</th>\n",
       "      <th>context 0</th>\n",
       "    </tr>\n",
       "  </thead>\n",
       "  <tbody>\n",
       "    <tr>\n",
       "      <th>0</th>\n",
       "      <td>The treatment for arrhythmias can vary dependi...</td>\n",
       "      <td>If it is an arrhythmia, what are the available...</td>\n",
       "      <td>Based on your symptoms, it's possible that you...</td>\n",
       "      <td>I've been feeling lightheaded and my heartbeat...</td>\n",
       "      <td>Hello. How can I assist you today?</td>\n",
       "      <td>Hi, Medi.</td>\n",
       "    </tr>\n",
       "    <tr>\n",
       "      <th>1</th>\n",
       "      <td>While most cases of arrhythmias are not seriou...</td>\n",
       "      <td>Are arrhythmias a serious condition?</td>\n",
       "      <td>Your symptoms are indeed consistent with arrhy...</td>\n",
       "      <td>I've been experiencing palpitations and shortn...</td>\n",
       "      <td>Hello. How can I assist you today?</td>\n",
       "      <td>Hi, Medi.</td>\n",
       "    </tr>\n",
       "    <tr>\n",
       "      <th>2</th>\n",
       "      <td>Certain arrhythmias can be life-threatening, e...</td>\n",
       "      <td>If it is an arrhythmia, can it be life-threate...</td>\n",
       "      <td>Based on your symptoms, it's possible that you...</td>\n",
       "      <td>I've been having chest pain and feeling a paus...</td>\n",
       "      <td>Hello. How can I assist you today?</td>\n",
       "      <td>Hi, Medi.</td>\n",
       "    </tr>\n",
       "    <tr>\n",
       "      <th>3</th>\n",
       "      <td>Common causes of palpitations include anxiety,...</td>\n",
       "      <td>What are some common causes of palpitations?</td>\n",
       "      <td>Palpitations can be caused by various factors....</td>\n",
       "      <td>I've been experiencing palpitations lately. Sh...</td>\n",
       "      <td>Hello! How can I assist you today?</td>\n",
       "      <td>Hi, Medi.</td>\n",
       "    </tr>\n",
       "    <tr>\n",
       "      <th>4</th>\n",
       "      <td>While most cases of arrhythmias are not seriou...</td>\n",
       "      <td>Are arrhythmias life-threatening?</td>\n",
       "      <td>Symptoms of arrhythmias can range from palpita...</td>\n",
       "      <td>What are the symptoms of arrhythmias?</td>\n",
       "      <td>Of course! I'm here to help. What would you li...</td>\n",
       "      <td>Hey, Medi. I have a question about arrhythmias.</td>\n",
       "    </tr>\n",
       "  </tbody>\n",
       "</table>\n",
       "</div>"
      ],
      "text/plain": [
       "                                            response  \\\n",
       "0  The treatment for arrhythmias can vary dependi...   \n",
       "1  While most cases of arrhythmias are not seriou...   \n",
       "2  Certain arrhythmias can be life-threatening, e...   \n",
       "3  Common causes of palpitations include anxiety,...   \n",
       "4  While most cases of arrhythmias are not seriou...   \n",
       "\n",
       "                                           context 4  \\\n",
       "0  If it is an arrhythmia, what are the available...   \n",
       "1               Are arrhythmias a serious condition?   \n",
       "2  If it is an arrhythmia, can it be life-threate...   \n",
       "3       What are some common causes of palpitations?   \n",
       "4                  Are arrhythmias life-threatening?   \n",
       "\n",
       "                                           context 3  \\\n",
       "0  Based on your symptoms, it's possible that you...   \n",
       "1  Your symptoms are indeed consistent with arrhy...   \n",
       "2  Based on your symptoms, it's possible that you...   \n",
       "3  Palpitations can be caused by various factors....   \n",
       "4  Symptoms of arrhythmias can range from palpita...   \n",
       "\n",
       "                                           context 2  \\\n",
       "0  I've been feeling lightheaded and my heartbeat...   \n",
       "1  I've been experiencing palpitations and shortn...   \n",
       "2  I've been having chest pain and feeling a paus...   \n",
       "3  I've been experiencing palpitations lately. Sh...   \n",
       "4              What are the symptoms of arrhythmias?   \n",
       "\n",
       "                                           context 1  \\\n",
       "0                 Hello. How can I assist you today?   \n",
       "1                 Hello. How can I assist you today?   \n",
       "2                 Hello. How can I assist you today?   \n",
       "3                 Hello! How can I assist you today?   \n",
       "4  Of course! I'm here to help. What would you li...   \n",
       "\n",
       "                                         context 0  \n",
       "0                                        Hi, Medi.  \n",
       "1                                        Hi, Medi.  \n",
       "2                                        Hi, Medi.  \n",
       "3                                        Hi, Medi.  \n",
       "4  Hey, Medi. I have a question about arrhythmias.  "
      ]
     },
     "execution_count": 4,
     "metadata": {},
     "output_type": "execute_result"
    }
   ],
   "source": [
    "df = pd.read_csv(r'E:\\Data_analysis\\NLP_2023.1\\NLP.2023.1.Generative-Based-Chatbot\\data\\df.csv')\n",
    "df = df.drop(columns='Unnamed: 0')\n",
    "df.head()"
   ]
  },
  {
   "cell_type": "code",
   "execution_count": 5,
   "metadata": {},
   "outputs": [
    {
     "name": "stdout",
     "output_type": "stream",
     "text": [
      "response     7298\n",
      "context 4    7266\n",
      "context 3    7272\n",
      "context 2    7300\n",
      "context 1    7303\n",
      "context 0    7303\n",
      "dtype: int64\n"
     ]
    }
   ],
   "source": [
    "print(df.count())"
   ]
  },
  {
   "cell_type": "code",
   "execution_count": 6,
   "metadata": {},
   "outputs": [
    {
     "name": "stdout",
     "output_type": "stream",
     "text": [
      "response      5\n",
      "context 4    37\n",
      "context 3    31\n",
      "context 2     3\n",
      "context 1     0\n",
      "context 0     0\n",
      "dtype: int64\n"
     ]
    }
   ],
   "source": [
    "# Count the number of missing values\n",
    "missing_values_count = df.isna().sum()\n",
    "\n",
    "# Display the count of missing values\n",
    "print(missing_values_count)"
   ]
  },
  {
   "cell_type": "code",
   "execution_count": 7,
   "metadata": {},
   "outputs": [
    {
     "data": {
      "text/plain": [
       "response     7263\n",
       "context 4    7263\n",
       "context 3    7263\n",
       "context 2    7263\n",
       "context 1    7263\n",
       "context 0    7263\n",
       "dtype: int64"
      ]
     },
     "execution_count": 7,
     "metadata": {},
     "output_type": "execute_result"
    }
   ],
   "source": [
    "df = df.dropna()\n",
    "df.count()"
   ]
  },
  {
   "cell_type": "code",
   "execution_count": 8,
   "metadata": {},
   "outputs": [],
   "source": [
    "def get_counter_and_lens(data, tokenizer):\n",
    "    flatten = lambda l: [item for sublist in l for item in sublist]\n",
    "    toks = [tokenizer.tokenize(x) for x in data]\n",
    "    \n",
    "    return list(map(len, toks)), Counter(flatten(toks)), Counter(' '.join(data).split())"
   ]
  },
  {
   "cell_type": "code",
   "execution_count": 9,
   "metadata": {},
   "outputs": [
    {
     "data": {
      "application/vnd.jupyter.widget-view+json": {
       "model_id": "696711b2f7ea4ef09a0136497771300c",
       "version_major": 2,
       "version_minor": 0
      },
      "text/plain": [
       "Downloading tokenizer_config.json:   0%|          | 0.00/26.0 [00:00<?, ?B/s]"
      ]
     },
     "metadata": {},
     "output_type": "display_data"
    },
    {
     "data": {
      "application/vnd.jupyter.widget-view+json": {
       "model_id": "7727d78601d745a5867f5e4b00067072",
       "version_major": 2,
       "version_minor": 0
      },
      "text/plain": [
       "Downloading config.json:   0%|          | 0.00/641 [00:00<?, ?B/s]"
      ]
     },
     "metadata": {},
     "output_type": "display_data"
    },
    {
     "data": {
      "application/vnd.jupyter.widget-view+json": {
       "model_id": "f28c3de6343f4581b7aa1c11893e841a",
       "version_major": 2,
       "version_minor": 0
      },
      "text/plain": [
       "Downloading vocab.json:   0%|          | 0.00/0.99M [00:00<?, ?B/s]"
      ]
     },
     "metadata": {},
     "output_type": "display_data"
    },
    {
     "data": {
      "application/vnd.jupyter.widget-view+json": {
       "model_id": "6698d7114aa24c6bb6e4002c8516cbd6",
       "version_major": 2,
       "version_minor": 0
      },
      "text/plain": [
       "Downloading merges.txt:   0%|          | 0.00/446k [00:00<?, ?B/s]"
      ]
     },
     "metadata": {},
     "output_type": "display_data"
    }
   ],
   "source": [
    "tokenizer = AutoTokenizer.from_pretrained(args.model_name_or_path, cache_dir=args.cache_dir)\n",
    "lens, tok_cnt, word_cnt = get_counter_and_lens(df[df.columns].apply(lambda x: ' '.join(x.astype(str)), axis = 1), tokenizer)"
   ]
  },
  {
   "cell_type": "code",
   "execution_count": 10,
   "metadata": {},
   "outputs": [],
   "source": [
    "#collapse\n",
    "def plot_counts(counts, top_k = 30):\n",
    "    labels, values = zip(*counts.most_common()[:top_k])\n",
    "\n",
    "    indexes = np.arange(len(labels))\n",
    "    width = 1\n",
    "    plt.figure(num=None, figsize=(22, 4), dpi=60, facecolor='w', edgecolor='k')\n",
    "    plt.bar(indexes, values, width)\n",
    "    plt.xticks(indexes + width * 0.5, labels)\n",
    "    plt.show()"
   ]
  },
  {
   "cell_type": "code",
   "execution_count": 11,
   "metadata": {},
   "outputs": [
    {
     "data": {
      "image/png": "[encoded data removed]",
      "text/plain": [
       "<Figure size 1320x240 with 1 Axes>"
      ]
     },
     "metadata": {},
     "output_type": "display_data"
    },
    {
     "data": {
      "image/png": "[encoded data removed]",
      "text/plain": [
       "<Figure size 1320x240 with 1 Axes>"
      ]
     },
     "metadata": {},
     "output_type": "display_data"
    }
   ],
   "source": [
    "plot_counts(tok_cnt, top_k = 30)\n",
    "plot_counts(word_cnt, top_k = 30)"
   ]
  },
  {
   "cell_type": "code",
   "execution_count": 12,
   "metadata": {},
   "outputs": [],
   "source": [
    "#collapse\n",
    "def plot_hist(lens, n_bins = 50):\n",
    "    n, bins, patches = plt.hist(lens, n_bins, facecolor='blue', alpha=0.9)\n",
    "    plt.show()"
   ]
  },
  {
   "cell_type": "code",
   "execution_count": 13,
   "metadata": {},
   "outputs": [
    {
     "name": "stdout",
     "output_type": "stream",
     "text": [
      "Mean: 107.79140850888062, Median: 107, Standard Deviation: 18.230526724133597, 90th Percentile: 192.0\n"
     ]
    },
    {
     "data": {
      "image/png": "[encoded data removed]",
      "text/plain": [
       "<Figure size 432x288 with 1 Axes>"
      ]
     },
     "metadata": {
      "needs_background": "light"
     },
     "output_type": "display_data"
    }
   ],
   "source": [
    "print(f'Mean: {mean(lens)}, Median: {median(lens)}, Standard Deviation: {stdev(lens)}, 90th Percentile: {np.percentile(lens, 100)}')\n",
    "plot_hist(lens)"
   ]
  },
  {
   "attachments": {},
   "cell_type": "markdown",
   "metadata": {},
   "source": [
    "# Train test split"
   ]
  },
  {
   "cell_type": "code",
   "execution_count": 1,
   "metadata": {},
   "outputs": [],
   "source": [
    "from sklearn.model_selection import train_test_split"
   ]
  },
  {
   "cell_type": "code",
   "execution_count": 14,
   "metadata": {},
   "outputs": [
    {
     "data": {
      "text/plain": [
       "response     6536\n",
       "context 4    6536\n",
       "context 3    6536\n",
       "context 2    6536\n",
       "context 1    6536\n",
       "context 0    6536\n",
       "dtype: int64"
      ]
     },
     "execution_count": 14,
     "metadata": {},
     "output_type": "execute_result"
    }
   ],
   "source": [
    "trn_df, val_df = train_test_split(df, test_size=0.1)\n",
    "# trn_df, val_df = train_test_split(trn_df, test_size=0.07)\n",
    "trn_df.count()"
   ]
  },
  {
   "cell_type": "code",
   "execution_count": 34,
   "metadata": {},
   "outputs": [],
   "source": [
    "trn_df.to_csv(r'E:\\Data_analysis\\NLP_2023.1\\NLP.2023.1.Generative-Based-Chatbot\\data\\train_.csv')\n",
    "# test_df.to_csv(r'E:\\Data_analysis\\NLP_2023.1\\NLP.2023.1.Generative-Based-Chatbot\\data\\test.csv')\n",
    "val_df.to_csv(r'E:\\Data_analysis\\NLP_2023.1\\NLP.2023.1.Generative-Based-Chatbot\\data\\val_.csv')"
   ]
  },
  {
   "cell_type": "code",
   "execution_count": null,
   "metadata": {},
   "outputs": [],
   "source": []
  }
 ],
 "metadata": {
  "kernelspec": {
   "display_name": "Python 3",
   "language": "python",
   "name": "python3"
  },
  "language_info": {
   "codemirror_mode": {
    "name": "ipython",
    "version": 3
   },
   "file_extension": ".py",
   "mimetype": "text/x-python",
   "name": "python",
   "nbconvert_exporter": "python",
   "pygments_lexer": "ipython3",
   "version": "3.8.10"
  },
  "orig_nbformat": 4
 },
 "nbformat": 4,
 "nbformat_minor": 2
}
